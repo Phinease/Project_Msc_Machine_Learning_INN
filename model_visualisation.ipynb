{
 "cells": [
  {
   "cell_type": "code",
   "execution_count": 1,
   "outputs": [],
   "source": [
    "import src.config as c\n",
    "from src.inn_model import *\n",
    "from src.dataset import *\n",
    "\n",
    "import pandas as pd\n",
    "from torch.utils.tensorboard import SummaryWriter"
   ],
   "metadata": {
    "collapsed": false,
    "pycharm": {
     "name": "#%%\n"
    }
   }
  },
  {
   "cell_type": "code",
   "execution_count": null,
   "outputs": [],
   "source": [
    "c.n_layers = 1\n",
    "c.n_spectrum_start = 24\n",
    "c.parameters = ['sao2']\n",
    "c.device = 'cpu'\n",
    "\n",
    "data_colon = pd.read_csv(\"./data/colon_train_reformatted.csv\")\n",
    "dataset = McDataset(data_colon, c)\n",
    "c.ndim_y = dataset.get_y_dim()\n",
    "c.ndim_x = dataset.get_x_dim()\n",
    "c.ndim_tot = max(c.ndim_y, c.ndim_x) + c.ndim_z"
   ],
   "metadata": {
    "collapsed": false,
    "pycharm": {
     "name": "#%%\n",
     "is_executing": true
    }
   }
  },
  {
   "cell_type": "code",
   "execution_count": 3,
   "outputs": [],
   "source": [
    "writer = SummaryWriter('runs/fashion_mnist_experiment_1')\n",
    "\n",
    "data_loader = data_utils.DataLoader(dataset, batch_size=c.batch_size, shuffle=True, drop_last=True)\n",
    "x = None\n",
    "for i, _ in data_loader:\n",
    "    x = i\n",
    "    break\n",
    "\n",
    "pad_x = c.zeros_noise_scale * torch.randn(c.batch_size, c.ndim_tot - c.ndim_x, device=c.device)\n",
    "x = torch.cat((x, pad_x), dim=1)"
   ],
   "metadata": {
    "collapsed": false,
    "pycharm": {
     "name": "#%%\n"
    }
   }
  },
  {
   "cell_type": "code",
   "execution_count": 4,
   "outputs": [],
   "source": [
    "model = inn_model_1(c)\n",
    "writer.add_graph(model, x)\n",
    "writer.close()"
   ],
   "metadata": {
    "collapsed": false,
    "pycharm": {
     "name": "#%%\n"
    }
   }
  }
 ],
 "metadata": {
  "kernelspec": {
   "display_name": "Python 3",
   "language": "python",
   "name": "python3"
  },
  "language_info": {
   "codemirror_mode": {
    "name": "ipython",
    "version": 2
   },
   "file_extension": ".py",
   "mimetype": "text/x-python",
   "name": "python",
   "nbconvert_exporter": "python",
   "pygments_lexer": "ipython2",
   "version": "2.7.6"
  }
 },
 "nbformat": 4,
 "nbformat_minor": 0
}