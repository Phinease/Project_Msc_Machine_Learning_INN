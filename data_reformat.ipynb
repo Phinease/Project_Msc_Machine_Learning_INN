{
 "cells": [
  {
   "cell_type": "code",
   "execution_count": 1,
   "outputs": [],
   "source": [
    "import os\n",
    "import pandas as pd\n",
    "from hvs_hsi_pytorch.definitions import DIR_DATA"
   ],
   "metadata": {
    "collapsed": false,
    "pycharm": {
     "name": "#%%\n"
    }
   }
  },
  {
   "cell_type": "code",
   "execution_count": 2,
   "outputs": [
    {
     "data": {
      "text/plain": "(Index(['Unnamed: 0', 'Unnamed: 0_level_0', 'layer0', 'layer0.1', 'layer0.2',\n        'layer0.3', 'layer0.4', 'layer0.5', 'layer0.6', 'layer0.7', 'layer1',\n        'layer1.1', 'layer1.2', 'layer1.3', 'layer1.4', 'layer1.5', 'layer1.6',\n        'layer1.7', 'layer2', 'layer2.1', 'layer2.2', 'layer2.3', 'layer2.4',\n        'layer2.5', 'layer2.6', 'layer2.7'],\n       dtype='object'),\n Index(['reflectances', 'reflectances.1', 'reflectances.2', 'reflectances.3',\n        'reflectances.4', 'reflectances.5', 'reflectances.6', 'reflectances.7',\n        'reflectances.8', 'reflectances.9',\n        ...\n        'reflectances.340', 'reflectances.341', 'reflectances.342',\n        'reflectances.343', 'reflectances.344', 'reflectances.345',\n        'reflectances.346', 'reflectances.347', 'reflectances.348',\n        'reflectances.349'],\n       dtype='object', length=350))"
     },
     "execution_count": 2,
     "metadata": {},
     "output_type": "execute_result"
    }
   ],
   "source": [
    "file_name = \"generic_train\"\n",
    "mc_path = os.path.join(DIR_DATA, \"monte_carlo/dkfz/\", file_name + \".csv\")\n",
    "df = pd.read_csv(mc_path, low_memory=False)\n",
    "df.columns[:26], df.columns[26:]"
   ],
   "metadata": {
    "collapsed": false,
    "pycharm": {
     "name": "#%%\n"
    }
   }
  },
  {
   "cell_type": "code",
   "execution_count": 3,
   "outputs": [
    {
     "data": {
      "text/plain": "        Unnamed: 0  Unnamed: 0_level_0           layer0         layer0.1  \\\n0              NaN  Unnamed: 0_level_1             sao2              vhb   \n1              0.0                   0   0.694279071697   0.121863988103   \n2              1.0                   1    0.63495503051  0.0581301900236   \n3              2.0                   2   0.265839152974   0.210962135535   \n4              3.0                   3   0.318810117544   0.187162474552   \n...            ...                 ...              ...              ...   \n499996    499995.0                 995  0.0945275079102  0.0169906840004   \n499997    499996.0                 996  0.0550973446362   0.144203755748   \n499998    499997.0                 997   0.169536149344   0.200183385107   \n499999    499998.0                 998   0.657892813201   0.254214444997   \n500000    499999.0                 999   0.597947707588   0.142924776241   \n\n             layer0.2        layer0.3 layer0.4        layer0.5       layer0.6  \\\n0               a_mie           b_mie    a_ray               g              n   \n1       4996.07853824   2.77928917749      0.0   0.81949329797  1.51305625364   \n2       3815.45485367    1.2781684758      0.0  0.837640921808  1.52084161538   \n3       717.307021305    2.4084574129      0.0  0.860234736667  1.34042687697   \n4       4005.91589848    1.6417210281      0.0  0.876391206954  1.52797425212   \n...               ...             ...      ...             ...            ...   \n499996  2022.37299335   1.82346535942      0.0  0.805168076747  1.50687613137   \n499997  1987.71176668  0.888885404409      0.0  0.903651327965  1.38976049852   \n499998   2246.8320008   2.97496359099      0.0  0.936694891448  1.39146141665   \n499999  4720.24175706   2.76840789926      0.0  0.816540104783  1.46405029917   \n500000  2191.87694556   2.80090582552      0.0  0.821600326406   1.4267912573   \n\n                 layer0.7  ... reflectances.340 reflectances.341  \\\n0                       d  ...     9.800000e-07     9.820000e-07   \n1       0.000316783642054  ...     3.094790e-01     3.093010e-01   \n2        0.00175707188297  ...     4.302070e-01     4.310310e-01   \n3        0.00106555041974  ...     1.554880e-01     1.577450e-01   \n4         0.0013281042125  ...     3.568710e-01     3.600250e-01   \n...                   ...  ...              ...              ...   \n499996   0.00110629372575  ...     2.740110e-01     2.749290e-01   \n499997   0.00127574694048  ...     3.642200e-01     3.668140e-01   \n499998  0.000828724884618  ...     1.347500e-01     1.360300e-01   \n499999    0.0012282639724  ...     1.939630e-01     1.948090e-01   \n500000    0.0010451983832  ...     1.732920e-01     1.737250e-01   \n\n       reflectances.342 reflectances.343 reflectances.344 reflectances.345  \\\n0          9.840000e-07     9.860000e-07     9.880000e-07     9.900000e-07   \n1          3.091620e-01     3.099250e-01     3.113410e-01     3.109150e-01   \n2          4.322760e-01     4.332550e-01     4.338590e-01     4.352620e-01   \n3          1.603420e-01     1.634160e-01     1.661470e-01     1.688590e-01   \n4          3.629680e-01     3.655570e-01     3.689430e-01     3.720900e-01   \n...                 ...              ...              ...              ...   \n499996     2.755680e-01     2.771020e-01     2.778600e-01     2.778100e-01   \n499997     3.683670e-01     3.722710e-01     3.746450e-01     3.777930e-01   \n499998     1.367710e-01     1.377760e-01     1.390730e-01     1.398210e-01   \n499999     1.959910e-01     1.968870e-01     1.991520e-01     2.008060e-01   \n500000     1.745400e-01     1.750690e-01     1.763530e-01     1.767560e-01   \n\n       reflectances.346 reflectances.347 reflectances.348 reflectances.349  \n0          9.920000e-07     9.940000e-07     9.960000e-07     9.980000e-07  \n1          3.126490e-01     3.120110e-01     3.126870e-01     3.131250e-01  \n2          4.366110e-01     4.378210e-01     4.387650e-01     4.401570e-01  \n3          1.723500e-01     1.759390e-01     1.790350e-01     1.826610e-01  \n4          3.758750e-01     3.790510e-01     3.824340e-01     3.858420e-01  \n...                 ...              ...              ...              ...  \n499996     2.802610e-01     2.817670e-01     2.832400e-01     2.831290e-01  \n499997     3.809680e-01     3.829900e-01     3.867100e-01     3.898720e-01  \n499998     1.412760e-01     1.427440e-01     1.434270e-01     1.444010e-01  \n499999     2.026120e-01     2.041010e-01     2.057760e-01     2.080740e-01  \n500000     1.780210e-01     1.785850e-01     1.801920e-01     1.804550e-01  \n\n[500001 rows x 376 columns]",
      "text/html": "<div>\n<style scoped>\n    .dataframe tbody tr th:only-of-type {\n        vertical-align: middle;\n    }\n\n    .dataframe tbody tr th {\n        vertical-align: top;\n    }\n\n    .dataframe thead th {\n        text-align: right;\n    }\n</style>\n<table border=\"1\" class=\"dataframe\">\n  <thead>\n    <tr style=\"text-align: right;\">\n      <th></th>\n      <th>Unnamed: 0</th>\n      <th>Unnamed: 0_level_0</th>\n      <th>layer0</th>\n      <th>layer0.1</th>\n      <th>layer0.2</th>\n      <th>layer0.3</th>\n      <th>layer0.4</th>\n      <th>layer0.5</th>\n      <th>layer0.6</th>\n      <th>layer0.7</th>\n      <th>...</th>\n      <th>reflectances.340</th>\n      <th>reflectances.341</th>\n      <th>reflectances.342</th>\n      <th>reflectances.343</th>\n      <th>reflectances.344</th>\n      <th>reflectances.345</th>\n      <th>reflectances.346</th>\n      <th>reflectances.347</th>\n      <th>reflectances.348</th>\n      <th>reflectances.349</th>\n    </tr>\n  </thead>\n  <tbody>\n    <tr>\n      <th>0</th>\n      <td>NaN</td>\n      <td>Unnamed: 0_level_1</td>\n      <td>sao2</td>\n      <td>vhb</td>\n      <td>a_mie</td>\n      <td>b_mie</td>\n      <td>a_ray</td>\n      <td>g</td>\n      <td>n</td>\n      <td>d</td>\n      <td>...</td>\n      <td>9.800000e-07</td>\n      <td>9.820000e-07</td>\n      <td>9.840000e-07</td>\n      <td>9.860000e-07</td>\n      <td>9.880000e-07</td>\n      <td>9.900000e-07</td>\n      <td>9.920000e-07</td>\n      <td>9.940000e-07</td>\n      <td>9.960000e-07</td>\n      <td>9.980000e-07</td>\n    </tr>\n    <tr>\n      <th>1</th>\n      <td>0.0</td>\n      <td>0</td>\n      <td>0.694279071697</td>\n      <td>0.121863988103</td>\n      <td>4996.07853824</td>\n      <td>2.77928917749</td>\n      <td>0.0</td>\n      <td>0.81949329797</td>\n      <td>1.51305625364</td>\n      <td>0.000316783642054</td>\n      <td>...</td>\n      <td>3.094790e-01</td>\n      <td>3.093010e-01</td>\n      <td>3.091620e-01</td>\n      <td>3.099250e-01</td>\n      <td>3.113410e-01</td>\n      <td>3.109150e-01</td>\n      <td>3.126490e-01</td>\n      <td>3.120110e-01</td>\n      <td>3.126870e-01</td>\n      <td>3.131250e-01</td>\n    </tr>\n    <tr>\n      <th>2</th>\n      <td>1.0</td>\n      <td>1</td>\n      <td>0.63495503051</td>\n      <td>0.0581301900236</td>\n      <td>3815.45485367</td>\n      <td>1.2781684758</td>\n      <td>0.0</td>\n      <td>0.837640921808</td>\n      <td>1.52084161538</td>\n      <td>0.00175707188297</td>\n      <td>...</td>\n      <td>4.302070e-01</td>\n      <td>4.310310e-01</td>\n      <td>4.322760e-01</td>\n      <td>4.332550e-01</td>\n      <td>4.338590e-01</td>\n      <td>4.352620e-01</td>\n      <td>4.366110e-01</td>\n      <td>4.378210e-01</td>\n      <td>4.387650e-01</td>\n      <td>4.401570e-01</td>\n    </tr>\n    <tr>\n      <th>3</th>\n      <td>2.0</td>\n      <td>2</td>\n      <td>0.265839152974</td>\n      <td>0.210962135535</td>\n      <td>717.307021305</td>\n      <td>2.4084574129</td>\n      <td>0.0</td>\n      <td>0.860234736667</td>\n      <td>1.34042687697</td>\n      <td>0.00106555041974</td>\n      <td>...</td>\n      <td>1.554880e-01</td>\n      <td>1.577450e-01</td>\n      <td>1.603420e-01</td>\n      <td>1.634160e-01</td>\n      <td>1.661470e-01</td>\n      <td>1.688590e-01</td>\n      <td>1.723500e-01</td>\n      <td>1.759390e-01</td>\n      <td>1.790350e-01</td>\n      <td>1.826610e-01</td>\n    </tr>\n    <tr>\n      <th>4</th>\n      <td>3.0</td>\n      <td>3</td>\n      <td>0.318810117544</td>\n      <td>0.187162474552</td>\n      <td>4005.91589848</td>\n      <td>1.6417210281</td>\n      <td>0.0</td>\n      <td>0.876391206954</td>\n      <td>1.52797425212</td>\n      <td>0.0013281042125</td>\n      <td>...</td>\n      <td>3.568710e-01</td>\n      <td>3.600250e-01</td>\n      <td>3.629680e-01</td>\n      <td>3.655570e-01</td>\n      <td>3.689430e-01</td>\n      <td>3.720900e-01</td>\n      <td>3.758750e-01</td>\n      <td>3.790510e-01</td>\n      <td>3.824340e-01</td>\n      <td>3.858420e-01</td>\n    </tr>\n    <tr>\n      <th>...</th>\n      <td>...</td>\n      <td>...</td>\n      <td>...</td>\n      <td>...</td>\n      <td>...</td>\n      <td>...</td>\n      <td>...</td>\n      <td>...</td>\n      <td>...</td>\n      <td>...</td>\n      <td>...</td>\n      <td>...</td>\n      <td>...</td>\n      <td>...</td>\n      <td>...</td>\n      <td>...</td>\n      <td>...</td>\n      <td>...</td>\n      <td>...</td>\n      <td>...</td>\n      <td>...</td>\n    </tr>\n    <tr>\n      <th>499996</th>\n      <td>499995.0</td>\n      <td>995</td>\n      <td>0.0945275079102</td>\n      <td>0.0169906840004</td>\n      <td>2022.37299335</td>\n      <td>1.82346535942</td>\n      <td>0.0</td>\n      <td>0.805168076747</td>\n      <td>1.50687613137</td>\n      <td>0.00110629372575</td>\n      <td>...</td>\n      <td>2.740110e-01</td>\n      <td>2.749290e-01</td>\n      <td>2.755680e-01</td>\n      <td>2.771020e-01</td>\n      <td>2.778600e-01</td>\n      <td>2.778100e-01</td>\n      <td>2.802610e-01</td>\n      <td>2.817670e-01</td>\n      <td>2.832400e-01</td>\n      <td>2.831290e-01</td>\n    </tr>\n    <tr>\n      <th>499997</th>\n      <td>499996.0</td>\n      <td>996</td>\n      <td>0.0550973446362</td>\n      <td>0.144203755748</td>\n      <td>1987.71176668</td>\n      <td>0.888885404409</td>\n      <td>0.0</td>\n      <td>0.903651327965</td>\n      <td>1.38976049852</td>\n      <td>0.00127574694048</td>\n      <td>...</td>\n      <td>3.642200e-01</td>\n      <td>3.668140e-01</td>\n      <td>3.683670e-01</td>\n      <td>3.722710e-01</td>\n      <td>3.746450e-01</td>\n      <td>3.777930e-01</td>\n      <td>3.809680e-01</td>\n      <td>3.829900e-01</td>\n      <td>3.867100e-01</td>\n      <td>3.898720e-01</td>\n    </tr>\n    <tr>\n      <th>499998</th>\n      <td>499997.0</td>\n      <td>997</td>\n      <td>0.169536149344</td>\n      <td>0.200183385107</td>\n      <td>2246.8320008</td>\n      <td>2.97496359099</td>\n      <td>0.0</td>\n      <td>0.936694891448</td>\n      <td>1.39146141665</td>\n      <td>0.000828724884618</td>\n      <td>...</td>\n      <td>1.347500e-01</td>\n      <td>1.360300e-01</td>\n      <td>1.367710e-01</td>\n      <td>1.377760e-01</td>\n      <td>1.390730e-01</td>\n      <td>1.398210e-01</td>\n      <td>1.412760e-01</td>\n      <td>1.427440e-01</td>\n      <td>1.434270e-01</td>\n      <td>1.444010e-01</td>\n    </tr>\n    <tr>\n      <th>499999</th>\n      <td>499998.0</td>\n      <td>998</td>\n      <td>0.657892813201</td>\n      <td>0.254214444997</td>\n      <td>4720.24175706</td>\n      <td>2.76840789926</td>\n      <td>0.0</td>\n      <td>0.816540104783</td>\n      <td>1.46405029917</td>\n      <td>0.0012282639724</td>\n      <td>...</td>\n      <td>1.939630e-01</td>\n      <td>1.948090e-01</td>\n      <td>1.959910e-01</td>\n      <td>1.968870e-01</td>\n      <td>1.991520e-01</td>\n      <td>2.008060e-01</td>\n      <td>2.026120e-01</td>\n      <td>2.041010e-01</td>\n      <td>2.057760e-01</td>\n      <td>2.080740e-01</td>\n    </tr>\n    <tr>\n      <th>500000</th>\n      <td>499999.0</td>\n      <td>999</td>\n      <td>0.597947707588</td>\n      <td>0.142924776241</td>\n      <td>2191.87694556</td>\n      <td>2.80090582552</td>\n      <td>0.0</td>\n      <td>0.821600326406</td>\n      <td>1.4267912573</td>\n      <td>0.0010451983832</td>\n      <td>...</td>\n      <td>1.732920e-01</td>\n      <td>1.737250e-01</td>\n      <td>1.745400e-01</td>\n      <td>1.750690e-01</td>\n      <td>1.763530e-01</td>\n      <td>1.767560e-01</td>\n      <td>1.780210e-01</td>\n      <td>1.785850e-01</td>\n      <td>1.801920e-01</td>\n      <td>1.804550e-01</td>\n    </tr>\n  </tbody>\n</table>\n<p>500001 rows × 376 columns</p>\n</div>"
     },
     "execution_count": 3,
     "metadata": {},
     "output_type": "execute_result"
    }
   ],
   "source": [
    "df"
   ],
   "metadata": {
    "collapsed": false,
    "pycharm": {
     "name": "#%%\n"
    }
   }
  },
  {
   "cell_type": "code",
   "execution_count": 4,
   "outputs": [
    {
     "data": {
      "text/plain": "            layer0_sao2     layer0.1_vhb layer0.2_a_mie  layer0.3_b_mie  \\\n1        0.694279071697   0.121863988103  4996.07853824   2.77928917749   \n2         0.63495503051  0.0581301900236  3815.45485367    1.2781684758   \n3        0.265839152974   0.210962135535  717.307021305    2.4084574129   \n4        0.318810117544   0.187162474552  4005.91589848    1.6417210281   \n5        0.595106662596   0.145279727434  2935.94475942   2.09328453611   \n...                 ...              ...            ...             ...   \n499996  0.0945275079102  0.0169906840004  2022.37299335   1.82346535942   \n499997  0.0550973446362   0.144203755748  1987.71176668  0.888885404409   \n499998   0.169536149344   0.200183385107   2246.8320008   2.97496359099   \n499999   0.657892813201   0.254214444997  4720.24175706   2.76840789926   \n500000   0.597947707588   0.142924776241  2191.87694556   2.80090582552   \n\n       layer0.4_a_ray      layer0.5_g     layer0.6_n         layer0.7_d  \\\n1                 0.0   0.81949329797  1.51305625364  0.000316783642054   \n2                 0.0  0.837640921808  1.52084161538   0.00175707188297   \n3                 0.0  0.860234736667  1.34042687697   0.00106555041974   \n4                 0.0  0.876391206954  1.52797425212    0.0013281042125   \n5                 0.0  0.831180344438  1.45285303328   0.00107092268226   \n...               ...             ...            ...                ...   \n499996            0.0  0.805168076747  1.50687613137   0.00110629372575   \n499997            0.0  0.903651327965  1.38976049852   0.00127574694048   \n499998            0.0  0.936694891448  1.39146141665  0.000828724884618   \n499999            0.0  0.816540104783  1.46405029917    0.0012282639724   \n500000            0.0  0.821600326406   1.4267912573    0.0010451983832   \n\n           layer1_sao2     layer1.1_vhb  ...  \\\n1       0.411835943709   0.294345728395  ...   \n2       0.964131022919   0.129041210792  ...   \n3        0.74034050948   0.257844140561  ...   \n4       0.128208901929  0.0848856889063  ...   \n5        0.22592147261   0.116363506891  ...   \n...                ...              ...  ...   \n499996  0.139417309478   0.291386375292  ...   \n499997  0.444238274525   0.230640307243  ...   \n499998  0.290029392915   0.170348765833  ...   \n499999  0.885169101434   0.171976649291  ...   \n500000  0.857653474037    0.14585051373  ...   \n\n       reflectances.340_9.800000000000001e-07 reflectances.341_9.82e-07  \\\n1                                    0.309479                  0.309301   \n2                                    0.430207                  0.431031   \n3                                    0.155488                  0.157745   \n4                                    0.356871                  0.360025   \n5                                    0.279912                  0.281932   \n...                                       ...                       ...   \n499996                               0.274011                  0.274929   \n499997                               0.364220                  0.366814   \n499998                               0.134750                  0.136030   \n499999                               0.193963                  0.194809   \n500000                               0.173292                  0.173725   \n\n       reflectances.342_9.84e-07 reflectances.343_9.860000000000002e-07  \\\n1                       0.309162                               0.309925   \n2                       0.432276                               0.433255   \n3                       0.160342                               0.163416   \n4                       0.362968                               0.365557   \n5                       0.284490                               0.286615   \n...                          ...                                    ...   \n499996                  0.275568                               0.277102   \n499997                  0.368367                               0.372271   \n499998                  0.136771                               0.137776   \n499999                  0.195991                               0.196887   \n500000                  0.174540                               0.175069   \n\n       reflectances.344_9.880000000000001e-07 reflectances.345_9.9e-07  \\\n1                                    0.311341                 0.310915   \n2                                    0.433859                 0.435262   \n3                                    0.166147                 0.168859   \n4                                    0.368943                 0.372090   \n5                                    0.289217                 0.291469   \n...                                       ...                      ...   \n499996                               0.277860                 0.277810   \n499997                               0.374645                 0.377793   \n499998                               0.139073                 0.139821   \n499999                               0.199152                 0.200806   \n500000                               0.176353                 0.176756   \n\n       reflectances.346_9.920000000000002e-07  \\\n1                                    0.312649   \n2                                    0.436611   \n3                                    0.172350   \n4                                    0.375875   \n5                                    0.294435   \n...                                       ...   \n499996                               0.280261   \n499997                               0.380968   \n499998                               0.141276   \n499999                               0.202612   \n500000                               0.178021   \n\n       reflectances.347_9.940000000000001e-07 reflectances.348_9.96e-07  \\\n1                                    0.312011                  0.312687   \n2                                    0.437821                  0.438765   \n3                                    0.175939                  0.179035   \n4                                    0.379051                  0.382434   \n5                                    0.297044                  0.299703   \n...                                       ...                       ...   \n499996                               0.281767                  0.283240   \n499997                               0.382990                  0.386710   \n499998                               0.142744                  0.143427   \n499999                               0.204101                  0.205776   \n500000                               0.178585                  0.180192   \n\n       reflectances.349_9.98e-07  \n1                       0.313125  \n2                       0.440157  \n3                       0.182661  \n4                       0.385842  \n5                       0.302888  \n...                          ...  \n499996                  0.283129  \n499997                  0.389872  \n499998                  0.144401  \n499999                  0.208074  \n500000                  0.180455  \n\n[500000 rows x 374 columns]",
      "text/html": "<div>\n<style scoped>\n    .dataframe tbody tr th:only-of-type {\n        vertical-align: middle;\n    }\n\n    .dataframe tbody tr th {\n        vertical-align: top;\n    }\n\n    .dataframe thead th {\n        text-align: right;\n    }\n</style>\n<table border=\"1\" class=\"dataframe\">\n  <thead>\n    <tr style=\"text-align: right;\">\n      <th></th>\n      <th>layer0_sao2</th>\n      <th>layer0.1_vhb</th>\n      <th>layer0.2_a_mie</th>\n      <th>layer0.3_b_mie</th>\n      <th>layer0.4_a_ray</th>\n      <th>layer0.5_g</th>\n      <th>layer0.6_n</th>\n      <th>layer0.7_d</th>\n      <th>layer1_sao2</th>\n      <th>layer1.1_vhb</th>\n      <th>...</th>\n      <th>reflectances.340_9.800000000000001e-07</th>\n      <th>reflectances.341_9.82e-07</th>\n      <th>reflectances.342_9.84e-07</th>\n      <th>reflectances.343_9.860000000000002e-07</th>\n      <th>reflectances.344_9.880000000000001e-07</th>\n      <th>reflectances.345_9.9e-07</th>\n      <th>reflectances.346_9.920000000000002e-07</th>\n      <th>reflectances.347_9.940000000000001e-07</th>\n      <th>reflectances.348_9.96e-07</th>\n      <th>reflectances.349_9.98e-07</th>\n    </tr>\n  </thead>\n  <tbody>\n    <tr>\n      <th>1</th>\n      <td>0.694279071697</td>\n      <td>0.121863988103</td>\n      <td>4996.07853824</td>\n      <td>2.77928917749</td>\n      <td>0.0</td>\n      <td>0.81949329797</td>\n      <td>1.51305625364</td>\n      <td>0.000316783642054</td>\n      <td>0.411835943709</td>\n      <td>0.294345728395</td>\n      <td>...</td>\n      <td>0.309479</td>\n      <td>0.309301</td>\n      <td>0.309162</td>\n      <td>0.309925</td>\n      <td>0.311341</td>\n      <td>0.310915</td>\n      <td>0.312649</td>\n      <td>0.312011</td>\n      <td>0.312687</td>\n      <td>0.313125</td>\n    </tr>\n    <tr>\n      <th>2</th>\n      <td>0.63495503051</td>\n      <td>0.0581301900236</td>\n      <td>3815.45485367</td>\n      <td>1.2781684758</td>\n      <td>0.0</td>\n      <td>0.837640921808</td>\n      <td>1.52084161538</td>\n      <td>0.00175707188297</td>\n      <td>0.964131022919</td>\n      <td>0.129041210792</td>\n      <td>...</td>\n      <td>0.430207</td>\n      <td>0.431031</td>\n      <td>0.432276</td>\n      <td>0.433255</td>\n      <td>0.433859</td>\n      <td>0.435262</td>\n      <td>0.436611</td>\n      <td>0.437821</td>\n      <td>0.438765</td>\n      <td>0.440157</td>\n    </tr>\n    <tr>\n      <th>3</th>\n      <td>0.265839152974</td>\n      <td>0.210962135535</td>\n      <td>717.307021305</td>\n      <td>2.4084574129</td>\n      <td>0.0</td>\n      <td>0.860234736667</td>\n      <td>1.34042687697</td>\n      <td>0.00106555041974</td>\n      <td>0.74034050948</td>\n      <td>0.257844140561</td>\n      <td>...</td>\n      <td>0.155488</td>\n      <td>0.157745</td>\n      <td>0.160342</td>\n      <td>0.163416</td>\n      <td>0.166147</td>\n      <td>0.168859</td>\n      <td>0.172350</td>\n      <td>0.175939</td>\n      <td>0.179035</td>\n      <td>0.182661</td>\n    </tr>\n    <tr>\n      <th>4</th>\n      <td>0.318810117544</td>\n      <td>0.187162474552</td>\n      <td>4005.91589848</td>\n      <td>1.6417210281</td>\n      <td>0.0</td>\n      <td>0.876391206954</td>\n      <td>1.52797425212</td>\n      <td>0.0013281042125</td>\n      <td>0.128208901929</td>\n      <td>0.0848856889063</td>\n      <td>...</td>\n      <td>0.356871</td>\n      <td>0.360025</td>\n      <td>0.362968</td>\n      <td>0.365557</td>\n      <td>0.368943</td>\n      <td>0.372090</td>\n      <td>0.375875</td>\n      <td>0.379051</td>\n      <td>0.382434</td>\n      <td>0.385842</td>\n    </tr>\n    <tr>\n      <th>5</th>\n      <td>0.595106662596</td>\n      <td>0.145279727434</td>\n      <td>2935.94475942</td>\n      <td>2.09328453611</td>\n      <td>0.0</td>\n      <td>0.831180344438</td>\n      <td>1.45285303328</td>\n      <td>0.00107092268226</td>\n      <td>0.22592147261</td>\n      <td>0.116363506891</td>\n      <td>...</td>\n      <td>0.279912</td>\n      <td>0.281932</td>\n      <td>0.284490</td>\n      <td>0.286615</td>\n      <td>0.289217</td>\n      <td>0.291469</td>\n      <td>0.294435</td>\n      <td>0.297044</td>\n      <td>0.299703</td>\n      <td>0.302888</td>\n    </tr>\n    <tr>\n      <th>...</th>\n      <td>...</td>\n      <td>...</td>\n      <td>...</td>\n      <td>...</td>\n      <td>...</td>\n      <td>...</td>\n      <td>...</td>\n      <td>...</td>\n      <td>...</td>\n      <td>...</td>\n      <td>...</td>\n      <td>...</td>\n      <td>...</td>\n      <td>...</td>\n      <td>...</td>\n      <td>...</td>\n      <td>...</td>\n      <td>...</td>\n      <td>...</td>\n      <td>...</td>\n      <td>...</td>\n    </tr>\n    <tr>\n      <th>499996</th>\n      <td>0.0945275079102</td>\n      <td>0.0169906840004</td>\n      <td>2022.37299335</td>\n      <td>1.82346535942</td>\n      <td>0.0</td>\n      <td>0.805168076747</td>\n      <td>1.50687613137</td>\n      <td>0.00110629372575</td>\n      <td>0.139417309478</td>\n      <td>0.291386375292</td>\n      <td>...</td>\n      <td>0.274011</td>\n      <td>0.274929</td>\n      <td>0.275568</td>\n      <td>0.277102</td>\n      <td>0.277860</td>\n      <td>0.277810</td>\n      <td>0.280261</td>\n      <td>0.281767</td>\n      <td>0.283240</td>\n      <td>0.283129</td>\n    </tr>\n    <tr>\n      <th>499997</th>\n      <td>0.0550973446362</td>\n      <td>0.144203755748</td>\n      <td>1987.71176668</td>\n      <td>0.888885404409</td>\n      <td>0.0</td>\n      <td>0.903651327965</td>\n      <td>1.38976049852</td>\n      <td>0.00127574694048</td>\n      <td>0.444238274525</td>\n      <td>0.230640307243</td>\n      <td>...</td>\n      <td>0.364220</td>\n      <td>0.366814</td>\n      <td>0.368367</td>\n      <td>0.372271</td>\n      <td>0.374645</td>\n      <td>0.377793</td>\n      <td>0.380968</td>\n      <td>0.382990</td>\n      <td>0.386710</td>\n      <td>0.389872</td>\n    </tr>\n    <tr>\n      <th>499998</th>\n      <td>0.169536149344</td>\n      <td>0.200183385107</td>\n      <td>2246.8320008</td>\n      <td>2.97496359099</td>\n      <td>0.0</td>\n      <td>0.936694891448</td>\n      <td>1.39146141665</td>\n      <td>0.000828724884618</td>\n      <td>0.290029392915</td>\n      <td>0.170348765833</td>\n      <td>...</td>\n      <td>0.134750</td>\n      <td>0.136030</td>\n      <td>0.136771</td>\n      <td>0.137776</td>\n      <td>0.139073</td>\n      <td>0.139821</td>\n      <td>0.141276</td>\n      <td>0.142744</td>\n      <td>0.143427</td>\n      <td>0.144401</td>\n    </tr>\n    <tr>\n      <th>499999</th>\n      <td>0.657892813201</td>\n      <td>0.254214444997</td>\n      <td>4720.24175706</td>\n      <td>2.76840789926</td>\n      <td>0.0</td>\n      <td>0.816540104783</td>\n      <td>1.46405029917</td>\n      <td>0.0012282639724</td>\n      <td>0.885169101434</td>\n      <td>0.171976649291</td>\n      <td>...</td>\n      <td>0.193963</td>\n      <td>0.194809</td>\n      <td>0.195991</td>\n      <td>0.196887</td>\n      <td>0.199152</td>\n      <td>0.200806</td>\n      <td>0.202612</td>\n      <td>0.204101</td>\n      <td>0.205776</td>\n      <td>0.208074</td>\n    </tr>\n    <tr>\n      <th>500000</th>\n      <td>0.597947707588</td>\n      <td>0.142924776241</td>\n      <td>2191.87694556</td>\n      <td>2.80090582552</td>\n      <td>0.0</td>\n      <td>0.821600326406</td>\n      <td>1.4267912573</td>\n      <td>0.0010451983832</td>\n      <td>0.857653474037</td>\n      <td>0.14585051373</td>\n      <td>...</td>\n      <td>0.173292</td>\n      <td>0.173725</td>\n      <td>0.174540</td>\n      <td>0.175069</td>\n      <td>0.176353</td>\n      <td>0.176756</td>\n      <td>0.178021</td>\n      <td>0.178585</td>\n      <td>0.180192</td>\n      <td>0.180455</td>\n    </tr>\n  </tbody>\n</table>\n<p>500000 rows × 374 columns</p>\n</div>"
     },
     "execution_count": 4,
     "metadata": {},
     "output_type": "execute_result"
    }
   ],
   "source": [
    "df = df.drop(columns=df.columns[:2])\n",
    "columns = [str(i) + '_' + str(j) for i, j in zip(df.columns.to_list(), df.iloc[0, :].to_list())]\n",
    "df.columns = columns\n",
    "df = df.iloc[1:]\n",
    "df"
   ],
   "metadata": {
    "collapsed": false,
    "pycharm": {
     "name": "#%%\n"
    }
   }
  },
  {
   "cell_type": "code",
   "execution_count": 5,
   "outputs": [
    {
     "data": {
      "text/plain": "(Index(['layer0_sao2', 'layer0.1_vhb', 'layer0.2_a_mie', 'layer0.3_b_mie',\n        'layer0.4_a_ray', 'layer0.5_g', 'layer0.6_n', 'layer0.7_d',\n        'layer1_sao2', 'layer1.1_vhb', 'layer1.2_a_mie', 'layer1.3_b_mie',\n        'layer1.4_a_ray', 'layer1.5_g', 'layer1.6_n', 'layer1.7_d',\n        'layer2_sao2', 'layer2.1_vhb', 'layer2.2_a_mie', 'layer2.3_b_mie',\n        'layer2.4_a_ray', 'layer2.5_g', 'layer2.6_n', 'layer2.7_d'],\n       dtype='object'),\n Index(['reflectances_3.0000000000000004e-07',\n        'reflectances.1_3.020000000000001e-07', 'reflectances.2_3.04e-07',\n        'reflectances.3_3.06e-07', 'reflectances.4_3.08e-07',\n        'reflectances.5_3.1e-07', 'reflectances.6_3.1200000000000004e-07',\n        'reflectances.7_3.140000000000001e-07', 'reflectances.8_3.16e-07',\n        'reflectances.9_3.18e-07',\n        ...\n        'reflectances.340_9.800000000000001e-07', 'reflectances.341_9.82e-07',\n        'reflectances.342_9.84e-07', 'reflectances.343_9.860000000000002e-07',\n        'reflectances.344_9.880000000000001e-07', 'reflectances.345_9.9e-07',\n        'reflectances.346_9.920000000000002e-07',\n        'reflectances.347_9.940000000000001e-07', 'reflectances.348_9.96e-07',\n        'reflectances.349_9.98e-07'],\n       dtype='object', length=350))"
     },
     "execution_count": 5,
     "metadata": {},
     "output_type": "execute_result"
    }
   ],
   "source": [
    "df.columns[:24], df.columns[24:]"
   ],
   "metadata": {
    "collapsed": false,
    "pycharm": {
     "name": "#%%\n"
    }
   }
  },
  {
   "cell_type": "code",
   "execution_count": 6,
   "outputs": [],
   "source": [
    "# raise KeyboardInterrupt\n",
    "df.to_csv('./data/mc/generic_train_reformatted.csv', index=False)"
   ],
   "metadata": {
    "collapsed": false,
    "pycharm": {
     "name": "#%%\n"
    }
   }
  },
  {
   "cell_type": "code",
   "execution_count": 8,
   "outputs": [],
   "source": [
    "df.sample(n=200000).to_csv('./data/generic_train_reformatted_200000.csv', index=False)"
   ],
   "metadata": {
    "collapsed": false,
    "pycharm": {
     "name": "#%%\n"
    }
   }
  }
 ],
 "metadata": {
  "kernelspec": {
   "display_name": "Python 3",
   "language": "python",
   "name": "python3"
  },
  "language_info": {
   "codemirror_mode": {
    "name": "ipython",
    "version": 2
   },
   "file_extension": ".py",
   "mimetype": "text/x-python",
   "name": "python",
   "nbconvert_exporter": "python",
   "pygments_lexer": "ipython2",
   "version": "2.7.6"
  }
 },
 "nbformat": 4,
 "nbformat_minor": 0
}